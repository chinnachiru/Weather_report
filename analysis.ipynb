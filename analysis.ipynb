{
 "cells": [
  {
   "cell_type": "markdown",
   "id": "74164cd2",
   "metadata": {},
   "source": [
    "# Weather Analysis of a data set of a particular location"
   ]
  },
  {
   "cell_type": "markdown",
   "id": "3fcbae20",
   "metadata": {},
   "source": [
    "Here, the weather dataset is a time-series data set with per-hour information about the weather conditions at a particular location. It records temperature, dew point temperature, relative humidity, wind speed, visibility, pressure and weather description.\n",
    "\n",
    "The data is available as a csv file. Below is a simple analysis of this data using NumPy and Pandas."
   ]
  },
  {
   "cell_type": "code",
   "execution_count": 1,
   "id": "7b72ecda",
   "metadata": {},
   "outputs": [],
   "source": [
    "import numpy as np\n",
    "import pandas as pd"
   ]
  },
  {
   "cell_type": "code",
   "execution_count": 2,
   "id": "9dd0dbef",
   "metadata": {},
   "outputs": [],
   "source": [
    "df = pd.read_csv(\"weather-data.csv\")"
   ]
  },
  {
   "cell_type": "code",
   "execution_count": 3,
   "id": "483071d8",
   "metadata": {},
   "outputs": [
    {
     "data": {
      "text/html": [
       "<div>\n",
       "<style scoped>\n",
       "    .dataframe tbody tr th:only-of-type {\n",
       "        vertical-align: middle;\n",
       "    }\n",
       "\n",
       "    .dataframe tbody tr th {\n",
       "        vertical-align: top;\n",
       "    }\n",
       "\n",
       "    .dataframe thead th {\n",
       "        text-align: right;\n",
       "    }\n",
       "</style>\n",
       "<table border=\"1\" class=\"dataframe\">\n",
       "  <thead>\n",
       "    <tr style=\"text-align: right;\">\n",
       "      <th></th>\n",
       "      <th>Date/Time</th>\n",
       "      <th>Temperature (in Degree Celsius)</th>\n",
       "      <th>Dew Point Temperature (in Degree Celsius)</th>\n",
       "      <th>Relative Humidity (in %)</th>\n",
       "      <th>Wind Speed (in km/h)</th>\n",
       "      <th>Visibility (in km)</th>\n",
       "      <th>Pressure (in kilopascal)</th>\n",
       "      <th>Weather Description</th>\n",
       "    </tr>\n",
       "  </thead>\n",
       "  <tbody>\n",
       "    <tr>\n",
       "      <th>0</th>\n",
       "      <td>1/1/2012 0:00</td>\n",
       "      <td>-1.8</td>\n",
       "      <td>-3.9</td>\n",
       "      <td>86</td>\n",
       "      <td>4</td>\n",
       "      <td>8.0</td>\n",
       "      <td>101.24</td>\n",
       "      <td>Fog</td>\n",
       "    </tr>\n",
       "    <tr>\n",
       "      <th>1</th>\n",
       "      <td>1/1/2012 1:00</td>\n",
       "      <td>-1.8</td>\n",
       "      <td>-3.7</td>\n",
       "      <td>87</td>\n",
       "      <td>4</td>\n",
       "      <td>8.0</td>\n",
       "      <td>101.24</td>\n",
       "      <td>Fog</td>\n",
       "    </tr>\n",
       "    <tr>\n",
       "      <th>2</th>\n",
       "      <td>1/1/2012 2:00</td>\n",
       "      <td>-1.8</td>\n",
       "      <td>-3.4</td>\n",
       "      <td>89</td>\n",
       "      <td>7</td>\n",
       "      <td>4.0</td>\n",
       "      <td>101.26</td>\n",
       "      <td>Freezing Drizzle,Fog</td>\n",
       "    </tr>\n",
       "    <tr>\n",
       "      <th>3</th>\n",
       "      <td>1/1/2012 3:00</td>\n",
       "      <td>-1.5</td>\n",
       "      <td>-3.2</td>\n",
       "      <td>88</td>\n",
       "      <td>6</td>\n",
       "      <td>4.0</td>\n",
       "      <td>101.27</td>\n",
       "      <td>Freezing Drizzle,Fog</td>\n",
       "    </tr>\n",
       "    <tr>\n",
       "      <th>4</th>\n",
       "      <td>1/1/2012 4:00</td>\n",
       "      <td>-1.5</td>\n",
       "      <td>-3.3</td>\n",
       "      <td>88</td>\n",
       "      <td>7</td>\n",
       "      <td>4.8</td>\n",
       "      <td>101.23</td>\n",
       "      <td>Fog</td>\n",
       "    </tr>\n",
       "    <tr>\n",
       "      <th>...</th>\n",
       "      <td>...</td>\n",
       "      <td>...</td>\n",
       "      <td>...</td>\n",
       "      <td>...</td>\n",
       "      <td>...</td>\n",
       "      <td>...</td>\n",
       "      <td>...</td>\n",
       "      <td>...</td>\n",
       "    </tr>\n",
       "    <tr>\n",
       "      <th>8779</th>\n",
       "      <td>12/31/2012 19:00</td>\n",
       "      <td>0.1</td>\n",
       "      <td>-2.7</td>\n",
       "      <td>81</td>\n",
       "      <td>30</td>\n",
       "      <td>9.7</td>\n",
       "      <td>100.13</td>\n",
       "      <td>Snow</td>\n",
       "    </tr>\n",
       "    <tr>\n",
       "      <th>8780</th>\n",
       "      <td>12/31/2012 20:00</td>\n",
       "      <td>0.2</td>\n",
       "      <td>-2.4</td>\n",
       "      <td>83</td>\n",
       "      <td>24</td>\n",
       "      <td>9.7</td>\n",
       "      <td>100.03</td>\n",
       "      <td>Snow</td>\n",
       "    </tr>\n",
       "    <tr>\n",
       "      <th>8781</th>\n",
       "      <td>12/31/2012 21:00</td>\n",
       "      <td>-0.5</td>\n",
       "      <td>-1.5</td>\n",
       "      <td>93</td>\n",
       "      <td>28</td>\n",
       "      <td>4.8</td>\n",
       "      <td>99.95</td>\n",
       "      <td>Snow</td>\n",
       "    </tr>\n",
       "    <tr>\n",
       "      <th>8782</th>\n",
       "      <td>12/31/2012 22:00</td>\n",
       "      <td>-0.2</td>\n",
       "      <td>-1.8</td>\n",
       "      <td>89</td>\n",
       "      <td>28</td>\n",
       "      <td>9.7</td>\n",
       "      <td>99.91</td>\n",
       "      <td>Snow</td>\n",
       "    </tr>\n",
       "    <tr>\n",
       "      <th>8783</th>\n",
       "      <td>12/31/2012 23:00</td>\n",
       "      <td>0.0</td>\n",
       "      <td>-2.1</td>\n",
       "      <td>86</td>\n",
       "      <td>30</td>\n",
       "      <td>11.3</td>\n",
       "      <td>99.89</td>\n",
       "      <td>Snow</td>\n",
       "    </tr>\n",
       "  </tbody>\n",
       "</table>\n",
       "<p>8784 rows × 8 columns</p>\n",
       "</div>"
      ],
      "text/plain": [
       "             Date/Time  Temperature (in Degree Celsius)  \\\n",
       "0        1/1/2012 0:00                             -1.8   \n",
       "1        1/1/2012 1:00                             -1.8   \n",
       "2        1/1/2012 2:00                             -1.8   \n",
       "3        1/1/2012 3:00                             -1.5   \n",
       "4        1/1/2012 4:00                             -1.5   \n",
       "...                ...                              ...   \n",
       "8779  12/31/2012 19:00                              0.1   \n",
       "8780  12/31/2012 20:00                              0.2   \n",
       "8781  12/31/2012 21:00                             -0.5   \n",
       "8782  12/31/2012 22:00                             -0.2   \n",
       "8783  12/31/2012 23:00                              0.0   \n",
       "\n",
       "      Dew Point Temperature (in Degree Celsius)  Relative Humidity (in %)  \\\n",
       "0                                          -3.9                        86   \n",
       "1                                          -3.7                        87   \n",
       "2                                          -3.4                        89   \n",
       "3                                          -3.2                        88   \n",
       "4                                          -3.3                        88   \n",
       "...                                         ...                       ...   \n",
       "8779                                       -2.7                        81   \n",
       "8780                                       -2.4                        83   \n",
       "8781                                       -1.5                        93   \n",
       "8782                                       -1.8                        89   \n",
       "8783                                       -2.1                        86   \n",
       "\n",
       "      Wind Speed (in km/h)  Visibility (in km)  Pressure (in kilopascal)  \\\n",
       "0                        4                 8.0                    101.24   \n",
       "1                        4                 8.0                    101.24   \n",
       "2                        7                 4.0                    101.26   \n",
       "3                        6                 4.0                    101.27   \n",
       "4                        7                 4.8                    101.23   \n",
       "...                    ...                 ...                       ...   \n",
       "8779                    30                 9.7                    100.13   \n",
       "8780                    24                 9.7                    100.03   \n",
       "8781                    28                 4.8                     99.95   \n",
       "8782                    28                 9.7                     99.91   \n",
       "8783                    30                11.3                     99.89   \n",
       "\n",
       "       Weather Description  \n",
       "0                      Fog  \n",
       "1                      Fog  \n",
       "2     Freezing Drizzle,Fog  \n",
       "3     Freezing Drizzle,Fog  \n",
       "4                      Fog  \n",
       "...                    ...  \n",
       "8779                  Snow  \n",
       "8780                  Snow  \n",
       "8781                  Snow  \n",
       "8782                  Snow  \n",
       "8783                  Snow  \n",
       "\n",
       "[8784 rows x 8 columns]"
      ]
     },
     "metadata": {},
     "output_type": "display_data"
    }
   ],
   "source": [
    "display(df)"
   ]
  },
  {
   "cell_type": "markdown",
   "id": "eada5dc3",
   "metadata": {},
   "source": [
    "## Finding mean temperature"
   ]
  },
  {
   "cell_type": "code",
   "execution_count": 4,
   "id": "6d19131d",
   "metadata": {},
   "outputs": [
    {
     "data": {
      "text/plain": [
       "0      -1.8\n",
       "1      -1.8\n",
       "2      -1.8\n",
       "3      -1.5\n",
       "4      -1.5\n",
       "       ... \n",
       "8779    0.1\n",
       "8780    0.2\n",
       "8781   -0.5\n",
       "8782   -0.2\n",
       "8783    0.0\n",
       "Name: Temperature (in Degree Celsius), Length: 8784, dtype: float64"
      ]
     },
     "metadata": {},
     "output_type": "display_data"
    }
   ],
   "source": [
    "display(df[\"Temperature (in Degree Celsius)\"])"
   ]
  },
  {
   "cell_type": "code",
   "execution_count": 5,
   "id": "c234240e",
   "metadata": {},
   "outputs": [],
   "source": [
    "temperature_arr = df[\"Temperature (in Degree Celsius)\"].to_numpy()"
   ]
  },
  {
   "cell_type": "code",
   "execution_count": 6,
   "id": "52c7e235",
   "metadata": {},
   "outputs": [],
   "source": [
    "temperature_mean = np.mean(temperature_arr)"
   ]
  },
  {
   "cell_type": "code",
   "execution_count": 7,
   "id": "a1c841fb",
   "metadata": {},
   "outputs": [
    {
     "name": "stdout",
     "output_type": "stream",
     "text": [
      "8.798144353369764\n"
     ]
    }
   ],
   "source": [
    "print(temperature_mean)"
   ]
  },
  {
   "cell_type": "markdown",
   "id": "f2016572",
   "metadata": {},
   "source": [
    "## Finding mean dew point temperature"
   ]
  },
  {
   "cell_type": "code",
   "execution_count": 8,
   "id": "cd5c872c",
   "metadata": {},
   "outputs": [
    {
     "data": {
      "text/plain": [
       "0      -3.9\n",
       "1      -3.7\n",
       "2      -3.4\n",
       "3      -3.2\n",
       "4      -3.3\n",
       "       ... \n",
       "8779   -2.7\n",
       "8780   -2.4\n",
       "8781   -1.5\n",
       "8782   -1.8\n",
       "8783   -2.1\n",
       "Name: Dew Point Temperature (in Degree Celsius), Length: 8784, dtype: float64"
      ]
     },
     "metadata": {},
     "output_type": "display_data"
    }
   ],
   "source": [
    "display(df[\"Dew Point Temperature (in Degree Celsius)\"])"
   ]
  },
  {
   "cell_type": "code",
   "execution_count": 9,
   "id": "6c099209",
   "metadata": {},
   "outputs": [],
   "source": [
    "dew_point_temperature_arr = df[\"Dew Point Temperature (in Degree Celsius)\"].to_numpy()"
   ]
  },
  {
   "cell_type": "code",
   "execution_count": 10,
   "id": "3a034d2b",
   "metadata": {},
   "outputs": [],
   "source": [
    "dew_point_temperature_mean = np.mean(dew_point_temperature_arr)"
   ]
  },
  {
   "cell_type": "code",
   "execution_count": 11,
   "id": "373cf444",
   "metadata": {},
   "outputs": [
    {
     "name": "stdout",
     "output_type": "stream",
     "text": [
      "2.5552937158469944\n"
     ]
    }
   ],
   "source": [
    "print(dew_point_temperature_mean)"
   ]
  },
  {
   "cell_type": "markdown",
   "id": "51c94828",
   "metadata": {},
   "source": [
    "## Finding mean relative humidity"
   ]
  },
  {
   "cell_type": "code",
   "execution_count": 12,
   "id": "6d4054a1",
   "metadata": {},
   "outputs": [
    {
     "data": {
      "text/plain": [
       "0       86\n",
       "1       87\n",
       "2       89\n",
       "3       88\n",
       "4       88\n",
       "        ..\n",
       "8779    81\n",
       "8780    83\n",
       "8781    93\n",
       "8782    89\n",
       "8783    86\n",
       "Name: Relative Humidity (in %), Length: 8784, dtype: int64"
      ]
     },
     "metadata": {},
     "output_type": "display_data"
    }
   ],
   "source": [
    "display(df[\"Relative Humidity (in %)\"])"
   ]
  },
  {
   "cell_type": "code",
   "execution_count": 13,
   "id": "868913a6",
   "metadata": {},
   "outputs": [],
   "source": [
    "relative_humidity_arr = df[\"Relative Humidity (in %)\"].to_numpy()"
   ]
  },
  {
   "cell_type": "code",
   "execution_count": 14,
   "id": "437c8355",
   "metadata": {},
   "outputs": [],
   "source": [
    "relative_humidity_mean = np.mean(relative_humidity_arr)"
   ]
  },
  {
   "cell_type": "code",
   "execution_count": 15,
   "id": "e924d2e1",
   "metadata": {},
   "outputs": [
    {
     "name": "stdout",
     "output_type": "stream",
     "text": [
      "67.43169398907104\n"
     ]
    }
   ],
   "source": [
    "print(relative_humidity_mean)"
   ]
  },
  {
   "cell_type": "markdown",
   "id": "f3c23e41",
   "metadata": {},
   "source": [
    "## Finding mean wind speed"
   ]
  },
  {
   "cell_type": "code",
   "execution_count": 16,
   "id": "01b47e73",
   "metadata": {},
   "outputs": [
    {
     "data": {
      "text/plain": [
       "0        4\n",
       "1        4\n",
       "2        7\n",
       "3        6\n",
       "4        7\n",
       "        ..\n",
       "8779    30\n",
       "8780    24\n",
       "8781    28\n",
       "8782    28\n",
       "8783    30\n",
       "Name: Wind Speed (in km/h), Length: 8784, dtype: int64"
      ]
     },
     "metadata": {},
     "output_type": "display_data"
    }
   ],
   "source": [
    "display(df[\"Wind Speed (in km/h)\"])"
   ]
  },
  {
   "cell_type": "code",
   "execution_count": 17,
   "id": "5f727d6f",
   "metadata": {},
   "outputs": [],
   "source": [
    "wind_speed_arr = df[\"Wind Speed (in km/h)\"].to_numpy()"
   ]
  },
  {
   "cell_type": "code",
   "execution_count": 18,
   "id": "868ad83f",
   "metadata": {},
   "outputs": [],
   "source": [
    "wind_speed_mean = np.mean(wind_speed_arr)"
   ]
  },
  {
   "cell_type": "code",
   "execution_count": 19,
   "id": "af11ca6f",
   "metadata": {},
   "outputs": [
    {
     "name": "stdout",
     "output_type": "stream",
     "text": [
      "14.94546903460838\n"
     ]
    }
   ],
   "source": [
    "print(wind_speed_mean)"
   ]
  },
  {
   "cell_type": "markdown",
   "id": "ef675086",
   "metadata": {},
   "source": [
    "## Finding mean visibility"
   ]
  },
  {
   "cell_type": "code",
   "execution_count": 20,
   "id": "665d31f0",
   "metadata": {},
   "outputs": [
    {
     "data": {
      "text/plain": [
       "0        8.0\n",
       "1        8.0\n",
       "2        4.0\n",
       "3        4.0\n",
       "4        4.8\n",
       "        ... \n",
       "8779     9.7\n",
       "8780     9.7\n",
       "8781     4.8\n",
       "8782     9.7\n",
       "8783    11.3\n",
       "Name: Visibility (in km), Length: 8784, dtype: float64"
      ]
     },
     "metadata": {},
     "output_type": "display_data"
    }
   ],
   "source": [
    "display(df[\"Visibility (in km)\"])"
   ]
  },
  {
   "cell_type": "code",
   "execution_count": 21,
   "id": "6a215660",
   "metadata": {},
   "outputs": [],
   "source": [
    "visibility_arr = df[\"Visibility (in km)\"].to_numpy();"
   ]
  },
  {
   "cell_type": "code",
   "execution_count": 22,
   "id": "08198ebd",
   "metadata": {},
   "outputs": [
    {
     "name": "stdout",
     "output_type": "stream",
     "text": [
      "[ 8.   8.   4.  ...  4.8  9.7 11.3]\n"
     ]
    }
   ],
   "source": [
    "print(visibility_arr)"
   ]
  },
  {
   "cell_type": "code",
   "execution_count": 23,
   "id": "878c4fc3",
   "metadata": {},
   "outputs": [],
   "source": [
    "visibility_mean = np.mean(visibility_arr)"
   ]
  },
  {
   "cell_type": "code",
   "execution_count": 24,
   "id": "8c0c83ff",
   "metadata": {},
   "outputs": [
    {
     "name": "stdout",
     "output_type": "stream",
     "text": [
      "27.664446721311478\n"
     ]
    }
   ],
   "source": [
    "print(visibility_mean)"
   ]
  },
  {
   "cell_type": "markdown",
   "id": "fb5743cf",
   "metadata": {},
   "source": [
    "## Finding mean pressure"
   ]
  },
  {
   "cell_type": "code",
   "execution_count": 25,
   "id": "8776d08e",
   "metadata": {},
   "outputs": [
    {
     "data": {
      "text/plain": [
       "0       101.24\n",
       "1       101.24\n",
       "2       101.26\n",
       "3       101.27\n",
       "4       101.23\n",
       "         ...  \n",
       "8779    100.13\n",
       "8780    100.03\n",
       "8781     99.95\n",
       "8782     99.91\n",
       "8783     99.89\n",
       "Name: Pressure (in kilopascal), Length: 8784, dtype: float64"
      ]
     },
     "metadata": {},
     "output_type": "display_data"
    }
   ],
   "source": [
    "display(df[\"Pressure (in kilopascal)\"])"
   ]
  },
  {
   "cell_type": "code",
   "execution_count": 26,
   "id": "69b40b93",
   "metadata": {},
   "outputs": [],
   "source": [
    "pressure_arr = df[\"Pressure (in kilopascal)\"].to_numpy()"
   ]
  },
  {
   "cell_type": "code",
   "execution_count": 27,
   "id": "95b3392d",
   "metadata": {},
   "outputs": [],
   "source": [
    "pressure_mean = np.mean(pressure_arr)"
   ]
  },
  {
   "cell_type": "code",
   "execution_count": 28,
   "id": "980f673e",
   "metadata": {},
   "outputs": [
    {
     "name": "stdout",
     "output_type": "stream",
     "text": [
      "101.05162340619307\n"
     ]
    }
   ],
   "source": [
    "print(pressure_mean)"
   ]
  },
  {
   "cell_type": "markdown",
   "id": "60e1d637",
   "metadata": {},
   "source": [
    "## Handling null values in the dataframe"
   ]
  },
  {
   "cell_type": "markdown",
   "id": "dbef931c",
   "metadata": {},
   "source": [
    "### Counting the number of individual cells that are null in the entire dataframe)"
   ]
  },
  {
   "cell_type": "code",
   "execution_count": 29,
   "id": "e59a1c62",
   "metadata": {
    "scrolled": false
   },
   "outputs": [],
   "source": [
    "null_count = df.isnull().sum().sum()"
   ]
  },
  {
   "cell_type": "code",
   "execution_count": 30,
   "id": "6cdda341",
   "metadata": {},
   "outputs": [
    {
     "name": "stdout",
     "output_type": "stream",
     "text": [
      "There are 0 null values in the dataframe.\n"
     ]
    }
   ],
   "source": [
    "print(\"There are\", null_count, \"null values in the dataframe.\")"
   ]
  },
  {
   "cell_type": "markdown",
   "id": "cd2f0c00",
   "metadata": {},
   "source": [
    "### Counting the number of rows that have at least one null value"
   ]
  },
  {
   "cell_type": "code",
   "execution_count": 31,
   "id": "18c05ef2",
   "metadata": {},
   "outputs": [],
   "source": [
    "null_rows_count = df.isnull().any(axis=1).sum()"
   ]
  },
  {
   "cell_type": "code",
   "execution_count": 32,
   "id": "2bf4b7ad",
   "metadata": {},
   "outputs": [
    {
     "name": "stdout",
     "output_type": "stream",
     "text": [
      "There are 0 rows that contain at least one null value.\n"
     ]
    }
   ],
   "source": [
    "print(\"There are\", null_rows_count, \"rows that contain at least one null value.\")"
   ]
  },
  {
   "cell_type": "markdown",
   "id": "524ae7ac",
   "metadata": {},
   "source": [
    "### Counting the number of columns that have at least one null value"
   ]
  },
  {
   "cell_type": "code",
   "execution_count": 33,
   "id": "b89a3519",
   "metadata": {},
   "outputs": [],
   "source": [
    "null_columns_count = df.isnull().any(axis=0).sum()"
   ]
  },
  {
   "cell_type": "code",
   "execution_count": 34,
   "id": "eb580143",
   "metadata": {},
   "outputs": [
    {
     "name": "stdout",
     "output_type": "stream",
     "text": [
      "There are 0 columns that contain at least one null value.\n"
     ]
    }
   ],
   "source": [
    "print(\"There are\", null_columns_count, \"columns that contain at least one null value.\")"
   ]
  },
  {
   "cell_type": "markdown",
   "id": "a0d7ccda",
   "metadata": {},
   "source": [
    "## Displaying all the records where the weather condition is 'Snow'"
   ]
  },
  {
   "cell_type": "code",
   "execution_count": 35,
   "id": "51545b88",
   "metadata": {},
   "outputs": [],
   "source": [
    "snow_rows = df[df[\"Weather Description\"] == 'Snow']"
   ]
  },
  {
   "cell_type": "code",
   "execution_count": 36,
   "id": "d07f905d",
   "metadata": {},
   "outputs": [
    {
     "data": {
      "text/html": [
       "<div>\n",
       "<style scoped>\n",
       "    .dataframe tbody tr th:only-of-type {\n",
       "        vertical-align: middle;\n",
       "    }\n",
       "\n",
       "    .dataframe tbody tr th {\n",
       "        vertical-align: top;\n",
       "    }\n",
       "\n",
       "    .dataframe thead th {\n",
       "        text-align: right;\n",
       "    }\n",
       "</style>\n",
       "<table border=\"1\" class=\"dataframe\">\n",
       "  <thead>\n",
       "    <tr style=\"text-align: right;\">\n",
       "      <th></th>\n",
       "      <th>Date/Time</th>\n",
       "      <th>Temperature (in Degree Celsius)</th>\n",
       "      <th>Dew Point Temperature (in Degree Celsius)</th>\n",
       "      <th>Relative Humidity (in %)</th>\n",
       "      <th>Wind Speed (in km/h)</th>\n",
       "      <th>Visibility (in km)</th>\n",
       "      <th>Pressure (in kilopascal)</th>\n",
       "      <th>Weather Description</th>\n",
       "    </tr>\n",
       "  </thead>\n",
       "  <tbody>\n",
       "    <tr>\n",
       "      <th>55</th>\n",
       "      <td>1/3/2012 7:00</td>\n",
       "      <td>-14.0</td>\n",
       "      <td>-19.5</td>\n",
       "      <td>63</td>\n",
       "      <td>19</td>\n",
       "      <td>25.0</td>\n",
       "      <td>100.95</td>\n",
       "      <td>Snow</td>\n",
       "    </tr>\n",
       "    <tr>\n",
       "      <th>84</th>\n",
       "      <td>1/4/2012 12:00</td>\n",
       "      <td>-13.7</td>\n",
       "      <td>-21.7</td>\n",
       "      <td>51</td>\n",
       "      <td>11</td>\n",
       "      <td>24.1</td>\n",
       "      <td>101.25</td>\n",
       "      <td>Snow</td>\n",
       "    </tr>\n",
       "    <tr>\n",
       "      <th>86</th>\n",
       "      <td>1/4/2012 14:00</td>\n",
       "      <td>-11.3</td>\n",
       "      <td>-19.0</td>\n",
       "      <td>53</td>\n",
       "      <td>7</td>\n",
       "      <td>19.3</td>\n",
       "      <td>100.97</td>\n",
       "      <td>Snow</td>\n",
       "    </tr>\n",
       "    <tr>\n",
       "      <th>87</th>\n",
       "      <td>1/4/2012 15:00</td>\n",
       "      <td>-10.2</td>\n",
       "      <td>-16.3</td>\n",
       "      <td>61</td>\n",
       "      <td>11</td>\n",
       "      <td>9.7</td>\n",
       "      <td>100.89</td>\n",
       "      <td>Snow</td>\n",
       "    </tr>\n",
       "    <tr>\n",
       "      <th>88</th>\n",
       "      <td>1/4/2012 16:00</td>\n",
       "      <td>-9.4</td>\n",
       "      <td>-15.5</td>\n",
       "      <td>61</td>\n",
       "      <td>13</td>\n",
       "      <td>19.3</td>\n",
       "      <td>100.79</td>\n",
       "      <td>Snow</td>\n",
       "    </tr>\n",
       "    <tr>\n",
       "      <th>...</th>\n",
       "      <td>...</td>\n",
       "      <td>...</td>\n",
       "      <td>...</td>\n",
       "      <td>...</td>\n",
       "      <td>...</td>\n",
       "      <td>...</td>\n",
       "      <td>...</td>\n",
       "      <td>...</td>\n",
       "    </tr>\n",
       "    <tr>\n",
       "      <th>8779</th>\n",
       "      <td>12/31/2012 19:00</td>\n",
       "      <td>0.1</td>\n",
       "      <td>-2.7</td>\n",
       "      <td>81</td>\n",
       "      <td>30</td>\n",
       "      <td>9.7</td>\n",
       "      <td>100.13</td>\n",
       "      <td>Snow</td>\n",
       "    </tr>\n",
       "    <tr>\n",
       "      <th>8780</th>\n",
       "      <td>12/31/2012 20:00</td>\n",
       "      <td>0.2</td>\n",
       "      <td>-2.4</td>\n",
       "      <td>83</td>\n",
       "      <td>24</td>\n",
       "      <td>9.7</td>\n",
       "      <td>100.03</td>\n",
       "      <td>Snow</td>\n",
       "    </tr>\n",
       "    <tr>\n",
       "      <th>8781</th>\n",
       "      <td>12/31/2012 21:00</td>\n",
       "      <td>-0.5</td>\n",
       "      <td>-1.5</td>\n",
       "      <td>93</td>\n",
       "      <td>28</td>\n",
       "      <td>4.8</td>\n",
       "      <td>99.95</td>\n",
       "      <td>Snow</td>\n",
       "    </tr>\n",
       "    <tr>\n",
       "      <th>8782</th>\n",
       "      <td>12/31/2012 22:00</td>\n",
       "      <td>-0.2</td>\n",
       "      <td>-1.8</td>\n",
       "      <td>89</td>\n",
       "      <td>28</td>\n",
       "      <td>9.7</td>\n",
       "      <td>99.91</td>\n",
       "      <td>Snow</td>\n",
       "    </tr>\n",
       "    <tr>\n",
       "      <th>8783</th>\n",
       "      <td>12/31/2012 23:00</td>\n",
       "      <td>0.0</td>\n",
       "      <td>-2.1</td>\n",
       "      <td>86</td>\n",
       "      <td>30</td>\n",
       "      <td>11.3</td>\n",
       "      <td>99.89</td>\n",
       "      <td>Snow</td>\n",
       "    </tr>\n",
       "  </tbody>\n",
       "</table>\n",
       "<p>390 rows × 8 columns</p>\n",
       "</div>"
      ],
      "text/plain": [
       "             Date/Time  Temperature (in Degree Celsius)  \\\n",
       "55       1/3/2012 7:00                            -14.0   \n",
       "84      1/4/2012 12:00                            -13.7   \n",
       "86      1/4/2012 14:00                            -11.3   \n",
       "87      1/4/2012 15:00                            -10.2   \n",
       "88      1/4/2012 16:00                             -9.4   \n",
       "...                ...                              ...   \n",
       "8779  12/31/2012 19:00                              0.1   \n",
       "8780  12/31/2012 20:00                              0.2   \n",
       "8781  12/31/2012 21:00                             -0.5   \n",
       "8782  12/31/2012 22:00                             -0.2   \n",
       "8783  12/31/2012 23:00                              0.0   \n",
       "\n",
       "      Dew Point Temperature (in Degree Celsius)  Relative Humidity (in %)  \\\n",
       "55                                        -19.5                        63   \n",
       "84                                        -21.7                        51   \n",
       "86                                        -19.0                        53   \n",
       "87                                        -16.3                        61   \n",
       "88                                        -15.5                        61   \n",
       "...                                         ...                       ...   \n",
       "8779                                       -2.7                        81   \n",
       "8780                                       -2.4                        83   \n",
       "8781                                       -1.5                        93   \n",
       "8782                                       -1.8                        89   \n",
       "8783                                       -2.1                        86   \n",
       "\n",
       "      Wind Speed (in km/h)  Visibility (in km)  Pressure (in kilopascal)  \\\n",
       "55                      19                25.0                    100.95   \n",
       "84                      11                24.1                    101.25   \n",
       "86                       7                19.3                    100.97   \n",
       "87                      11                 9.7                    100.89   \n",
       "88                      13                19.3                    100.79   \n",
       "...                    ...                 ...                       ...   \n",
       "8779                    30                 9.7                    100.13   \n",
       "8780                    24                 9.7                    100.03   \n",
       "8781                    28                 4.8                     99.95   \n",
       "8782                    28                 9.7                     99.91   \n",
       "8783                    30                11.3                     99.89   \n",
       "\n",
       "     Weather Description  \n",
       "55                  Snow  \n",
       "84                  Snow  \n",
       "86                  Snow  \n",
       "87                  Snow  \n",
       "88                  Snow  \n",
       "...                  ...  \n",
       "8779                Snow  \n",
       "8780                Snow  \n",
       "8781                Snow  \n",
       "8782                Snow  \n",
       "8783                Snow  \n",
       "\n",
       "[390 rows x 8 columns]"
      ]
     },
     "metadata": {},
     "output_type": "display_data"
    }
   ],
   "source": [
    "display(snow_rows)"
   ]
  },
  {
   "cell_type": "code",
   "execution_count": 37,
   "id": "d9870a33",
   "metadata": {},
   "outputs": [
    {
     "name": "stdout",
     "output_type": "stream",
     "text": [
      "The number of rows where the weather is 'Snow': 390\n"
     ]
    }
   ],
   "source": [
    "print(\"The number of rows where the weather is 'Snow':\", len(snow_rows))"
   ]
  },
  {
   "cell_type": "markdown",
   "id": "d42dcfdb",
   "metadata": {},
   "source": [
    "## Finding all the records where the weather is 'Snow' and the temperature is less than -10 degree celsius\n",
    "(Humans cannot survive -10 degrees Celsius without clothing and other environmental regulation)"
   ]
  },
  {
   "cell_type": "code",
   "execution_count": 38,
   "id": "9d119e7c",
   "metadata": {},
   "outputs": [],
   "source": [
    "snow_rows_less_than_negative_10_temperature = df[(df[\"Weather Description\"] == \"Snow\") & (df[\"Temperature (in Degree Celsius)\"] < -10)]"
   ]
  },
  {
   "cell_type": "code",
   "execution_count": 39,
   "id": "f9f790e6",
   "metadata": {},
   "outputs": [
    {
     "data": {
      "text/html": [
       "<div>\n",
       "<style scoped>\n",
       "    .dataframe tbody tr th:only-of-type {\n",
       "        vertical-align: middle;\n",
       "    }\n",
       "\n",
       "    .dataframe tbody tr th {\n",
       "        vertical-align: top;\n",
       "    }\n",
       "\n",
       "    .dataframe thead th {\n",
       "        text-align: right;\n",
       "    }\n",
       "</style>\n",
       "<table border=\"1\" class=\"dataframe\">\n",
       "  <thead>\n",
       "    <tr style=\"text-align: right;\">\n",
       "      <th></th>\n",
       "      <th>Date/Time</th>\n",
       "      <th>Temperature (in Degree Celsius)</th>\n",
       "      <th>Dew Point Temperature (in Degree Celsius)</th>\n",
       "      <th>Relative Humidity (in %)</th>\n",
       "      <th>Wind Speed (in km/h)</th>\n",
       "      <th>Visibility (in km)</th>\n",
       "      <th>Pressure (in kilopascal)</th>\n",
       "      <th>Weather Description</th>\n",
       "    </tr>\n",
       "  </thead>\n",
       "  <tbody>\n",
       "    <tr>\n",
       "      <th>55</th>\n",
       "      <td>1/3/2012 7:00</td>\n",
       "      <td>-14.0</td>\n",
       "      <td>-19.5</td>\n",
       "      <td>63</td>\n",
       "      <td>19</td>\n",
       "      <td>25.0</td>\n",
       "      <td>100.95</td>\n",
       "      <td>Snow</td>\n",
       "    </tr>\n",
       "    <tr>\n",
       "      <th>84</th>\n",
       "      <td>1/4/2012 12:00</td>\n",
       "      <td>-13.7</td>\n",
       "      <td>-21.7</td>\n",
       "      <td>51</td>\n",
       "      <td>11</td>\n",
       "      <td>24.1</td>\n",
       "      <td>101.25</td>\n",
       "      <td>Snow</td>\n",
       "    </tr>\n",
       "    <tr>\n",
       "      <th>86</th>\n",
       "      <td>1/4/2012 14:00</td>\n",
       "      <td>-11.3</td>\n",
       "      <td>-19.0</td>\n",
       "      <td>53</td>\n",
       "      <td>7</td>\n",
       "      <td>19.3</td>\n",
       "      <td>100.97</td>\n",
       "      <td>Snow</td>\n",
       "    </tr>\n",
       "    <tr>\n",
       "      <th>87</th>\n",
       "      <td>1/4/2012 15:00</td>\n",
       "      <td>-10.2</td>\n",
       "      <td>-16.3</td>\n",
       "      <td>61</td>\n",
       "      <td>11</td>\n",
       "      <td>9.7</td>\n",
       "      <td>100.89</td>\n",
       "      <td>Snow</td>\n",
       "    </tr>\n",
       "    <tr>\n",
       "      <th>123</th>\n",
       "      <td>1/6/2012 3:00</td>\n",
       "      <td>-10.6</td>\n",
       "      <td>-16.0</td>\n",
       "      <td>64</td>\n",
       "      <td>0</td>\n",
       "      <td>9.7</td>\n",
       "      <td>100.76</td>\n",
       "      <td>Snow</td>\n",
       "    </tr>\n",
       "    <tr>\n",
       "      <th>124</th>\n",
       "      <td>1/6/2012 4:00</td>\n",
       "      <td>-11.3</td>\n",
       "      <td>-16.1</td>\n",
       "      <td>68</td>\n",
       "      <td>15</td>\n",
       "      <td>3.2</td>\n",
       "      <td>100.70</td>\n",
       "      <td>Snow</td>\n",
       "    </tr>\n",
       "    <tr>\n",
       "      <th>125</th>\n",
       "      <td>1/6/2012 5:00</td>\n",
       "      <td>-11.8</td>\n",
       "      <td>-16.0</td>\n",
       "      <td>71</td>\n",
       "      <td>19</td>\n",
       "      <td>2.8</td>\n",
       "      <td>100.61</td>\n",
       "      <td>Snow</td>\n",
       "    </tr>\n",
       "    <tr>\n",
       "      <th>126</th>\n",
       "      <td>1/6/2012 6:00</td>\n",
       "      <td>-12.0</td>\n",
       "      <td>-16.2</td>\n",
       "      <td>71</td>\n",
       "      <td>22</td>\n",
       "      <td>4.8</td>\n",
       "      <td>100.58</td>\n",
       "      <td>Snow</td>\n",
       "    </tr>\n",
       "    <tr>\n",
       "      <th>127</th>\n",
       "      <td>1/6/2012 7:00</td>\n",
       "      <td>-14.4</td>\n",
       "      <td>-16.3</td>\n",
       "      <td>85</td>\n",
       "      <td>22</td>\n",
       "      <td>2.4</td>\n",
       "      <td>100.52</td>\n",
       "      <td>Snow</td>\n",
       "    </tr>\n",
       "    <tr>\n",
       "      <th>128</th>\n",
       "      <td>1/6/2012 8:00</td>\n",
       "      <td>-12.3</td>\n",
       "      <td>-16.2</td>\n",
       "      <td>73</td>\n",
       "      <td>24</td>\n",
       "      <td>11.3</td>\n",
       "      <td>100.51</td>\n",
       "      <td>Snow</td>\n",
       "    </tr>\n",
       "    <tr>\n",
       "      <th>129</th>\n",
       "      <td>1/6/2012 9:00</td>\n",
       "      <td>-12.5</td>\n",
       "      <td>-16.7</td>\n",
       "      <td>71</td>\n",
       "      <td>26</td>\n",
       "      <td>19.3</td>\n",
       "      <td>100.53</td>\n",
       "      <td>Snow</td>\n",
       "    </tr>\n",
       "    <tr>\n",
       "      <th>130</th>\n",
       "      <td>1/6/2012 10:00</td>\n",
       "      <td>-12.3</td>\n",
       "      <td>-16.3</td>\n",
       "      <td>72</td>\n",
       "      <td>28</td>\n",
       "      <td>16.1</td>\n",
       "      <td>100.47</td>\n",
       "      <td>Snow</td>\n",
       "    </tr>\n",
       "    <tr>\n",
       "      <th>131</th>\n",
       "      <td>1/6/2012 11:00</td>\n",
       "      <td>-12.0</td>\n",
       "      <td>-16.0</td>\n",
       "      <td>72</td>\n",
       "      <td>17</td>\n",
       "      <td>24.1</td>\n",
       "      <td>100.36</td>\n",
       "      <td>Snow</td>\n",
       "    </tr>\n",
       "    <tr>\n",
       "      <th>132</th>\n",
       "      <td>1/6/2012 12:00</td>\n",
       "      <td>-11.7</td>\n",
       "      <td>-15.4</td>\n",
       "      <td>74</td>\n",
       "      <td>28</td>\n",
       "      <td>19.3</td>\n",
       "      <td>100.23</td>\n",
       "      <td>Snow</td>\n",
       "    </tr>\n",
       "    <tr>\n",
       "      <th>133</th>\n",
       "      <td>1/6/2012 13:00</td>\n",
       "      <td>-11.9</td>\n",
       "      <td>-15.6</td>\n",
       "      <td>74</td>\n",
       "      <td>20</td>\n",
       "      <td>24.1</td>\n",
       "      <td>100.13</td>\n",
       "      <td>Snow</td>\n",
       "    </tr>\n",
       "    <tr>\n",
       "      <th>134</th>\n",
       "      <td>1/6/2012 14:00</td>\n",
       "      <td>-11.2</td>\n",
       "      <td>-14.8</td>\n",
       "      <td>75</td>\n",
       "      <td>19</td>\n",
       "      <td>19.3</td>\n",
       "      <td>100.07</td>\n",
       "      <td>Snow</td>\n",
       "    </tr>\n",
       "    <tr>\n",
       "      <th>135</th>\n",
       "      <td>1/6/2012 15:00</td>\n",
       "      <td>-11.5</td>\n",
       "      <td>-14.4</td>\n",
       "      <td>79</td>\n",
       "      <td>19</td>\n",
       "      <td>12.9</td>\n",
       "      <td>100.06</td>\n",
       "      <td>Snow</td>\n",
       "    </tr>\n",
       "    <tr>\n",
       "      <th>136</th>\n",
       "      <td>1/6/2012 16:00</td>\n",
       "      <td>-11.6</td>\n",
       "      <td>-14.7</td>\n",
       "      <td>78</td>\n",
       "      <td>19</td>\n",
       "      <td>19.3</td>\n",
       "      <td>100.10</td>\n",
       "      <td>Snow</td>\n",
       "    </tr>\n",
       "    <tr>\n",
       "      <th>137</th>\n",
       "      <td>1/6/2012 17:00</td>\n",
       "      <td>-11.2</td>\n",
       "      <td>-14.3</td>\n",
       "      <td>78</td>\n",
       "      <td>17</td>\n",
       "      <td>25.0</td>\n",
       "      <td>100.15</td>\n",
       "      <td>Snow</td>\n",
       "    </tr>\n",
       "    <tr>\n",
       "      <th>316</th>\n",
       "      <td>1/14/2012 4:00</td>\n",
       "      <td>-13.4</td>\n",
       "      <td>-18.9</td>\n",
       "      <td>63</td>\n",
       "      <td>20</td>\n",
       "      <td>16.1</td>\n",
       "      <td>100.26</td>\n",
       "      <td>Snow</td>\n",
       "    </tr>\n",
       "    <tr>\n",
       "      <th>489</th>\n",
       "      <td>1/21/2012 9:00</td>\n",
       "      <td>-15.9</td>\n",
       "      <td>-21.0</td>\n",
       "      <td>65</td>\n",
       "      <td>13</td>\n",
       "      <td>24.1</td>\n",
       "      <td>102.11</td>\n",
       "      <td>Snow</td>\n",
       "    </tr>\n",
       "    <tr>\n",
       "      <th>490</th>\n",
       "      <td>1/21/2012 10:00</td>\n",
       "      <td>-16.3</td>\n",
       "      <td>-21.4</td>\n",
       "      <td>65</td>\n",
       "      <td>17</td>\n",
       "      <td>24.1</td>\n",
       "      <td>102.12</td>\n",
       "      <td>Snow</td>\n",
       "    </tr>\n",
       "    <tr>\n",
       "      <th>491</th>\n",
       "      <td>1/21/2012 11:00</td>\n",
       "      <td>-15.9</td>\n",
       "      <td>-21.2</td>\n",
       "      <td>64</td>\n",
       "      <td>19</td>\n",
       "      <td>24.1</td>\n",
       "      <td>102.09</td>\n",
       "      <td>Snow</td>\n",
       "    </tr>\n",
       "    <tr>\n",
       "      <th>729</th>\n",
       "      <td>1/31/2012 9:00</td>\n",
       "      <td>-10.1</td>\n",
       "      <td>-14.4</td>\n",
       "      <td>71</td>\n",
       "      <td>17</td>\n",
       "      <td>24.1</td>\n",
       "      <td>101.59</td>\n",
       "      <td>Snow</td>\n",
       "    </tr>\n",
       "    <tr>\n",
       "      <th>988</th>\n",
       "      <td>2/11/2012 4:00</td>\n",
       "      <td>-10.8</td>\n",
       "      <td>-13.4</td>\n",
       "      <td>81</td>\n",
       "      <td>22</td>\n",
       "      <td>16.1</td>\n",
       "      <td>100.98</td>\n",
       "      <td>Snow</td>\n",
       "    </tr>\n",
       "    <tr>\n",
       "      <th>989</th>\n",
       "      <td>2/11/2012 5:00</td>\n",
       "      <td>-11.5</td>\n",
       "      <td>-14.4</td>\n",
       "      <td>79</td>\n",
       "      <td>20</td>\n",
       "      <td>16.1</td>\n",
       "      <td>100.99</td>\n",
       "      <td>Snow</td>\n",
       "    </tr>\n",
       "    <tr>\n",
       "      <th>990</th>\n",
       "      <td>2/11/2012 6:00</td>\n",
       "      <td>-12.2</td>\n",
       "      <td>-14.8</td>\n",
       "      <td>81</td>\n",
       "      <td>24</td>\n",
       "      <td>9.7</td>\n",
       "      <td>101.00</td>\n",
       "      <td>Snow</td>\n",
       "    </tr>\n",
       "    <tr>\n",
       "      <th>991</th>\n",
       "      <td>2/11/2012 7:00</td>\n",
       "      <td>-13.0</td>\n",
       "      <td>-15.7</td>\n",
       "      <td>80</td>\n",
       "      <td>20</td>\n",
       "      <td>12.9</td>\n",
       "      <td>100.96</td>\n",
       "      <td>Snow</td>\n",
       "    </tr>\n",
       "    <tr>\n",
       "      <th>992</th>\n",
       "      <td>2/11/2012 8:00</td>\n",
       "      <td>-13.7</td>\n",
       "      <td>-17.1</td>\n",
       "      <td>75</td>\n",
       "      <td>20</td>\n",
       "      <td>16.1</td>\n",
       "      <td>101.01</td>\n",
       "      <td>Snow</td>\n",
       "    </tr>\n",
       "    <tr>\n",
       "      <th>994</th>\n",
       "      <td>2/11/2012 10:00</td>\n",
       "      <td>-13.4</td>\n",
       "      <td>-18.8</td>\n",
       "      <td>64</td>\n",
       "      <td>19</td>\n",
       "      <td>24.1</td>\n",
       "      <td>101.05</td>\n",
       "      <td>Snow</td>\n",
       "    </tr>\n",
       "    <tr>\n",
       "      <th>995</th>\n",
       "      <td>2/11/2012 11:00</td>\n",
       "      <td>-13.1</td>\n",
       "      <td>-18.8</td>\n",
       "      <td>62</td>\n",
       "      <td>11</td>\n",
       "      <td>24.1</td>\n",
       "      <td>101.03</td>\n",
       "      <td>Snow</td>\n",
       "    </tr>\n",
       "    <tr>\n",
       "      <th>996</th>\n",
       "      <td>2/11/2012 12:00</td>\n",
       "      <td>-12.8</td>\n",
       "      <td>-17.2</td>\n",
       "      <td>70</td>\n",
       "      <td>9</td>\n",
       "      <td>19.3</td>\n",
       "      <td>100.97</td>\n",
       "      <td>Snow</td>\n",
       "    </tr>\n",
       "    <tr>\n",
       "      <th>1013</th>\n",
       "      <td>2/12/2012 5:00</td>\n",
       "      <td>-16.4</td>\n",
       "      <td>-22.8</td>\n",
       "      <td>58</td>\n",
       "      <td>11</td>\n",
       "      <td>25.0</td>\n",
       "      <td>100.59</td>\n",
       "      <td>Snow</td>\n",
       "    </tr>\n",
       "    <tr>\n",
       "      <th>1014</th>\n",
       "      <td>2/12/2012 6:00</td>\n",
       "      <td>-16.7</td>\n",
       "      <td>-23.3</td>\n",
       "      <td>57</td>\n",
       "      <td>15</td>\n",
       "      <td>25.0</td>\n",
       "      <td>100.60</td>\n",
       "      <td>Snow</td>\n",
       "    </tr>\n",
       "    <tr>\n",
       "      <th>1015</th>\n",
       "      <td>2/12/2012 7:00</td>\n",
       "      <td>-16.7</td>\n",
       "      <td>-23.5</td>\n",
       "      <td>56</td>\n",
       "      <td>19</td>\n",
       "      <td>24.1</td>\n",
       "      <td>100.64</td>\n",
       "      <td>Snow</td>\n",
       "    </tr>\n",
       "    <tr>\n",
       "      <th>1017</th>\n",
       "      <td>2/12/2012 9:00</td>\n",
       "      <td>-16.7</td>\n",
       "      <td>-24.6</td>\n",
       "      <td>50</td>\n",
       "      <td>17</td>\n",
       "      <td>24.1</td>\n",
       "      <td>100.72</td>\n",
       "      <td>Snow</td>\n",
       "    </tr>\n",
       "  </tbody>\n",
       "</table>\n",
       "</div>"
      ],
      "text/plain": [
       "            Date/Time  Temperature (in Degree Celsius)  \\\n",
       "55      1/3/2012 7:00                            -14.0   \n",
       "84     1/4/2012 12:00                            -13.7   \n",
       "86     1/4/2012 14:00                            -11.3   \n",
       "87     1/4/2012 15:00                            -10.2   \n",
       "123     1/6/2012 3:00                            -10.6   \n",
       "124     1/6/2012 4:00                            -11.3   \n",
       "125     1/6/2012 5:00                            -11.8   \n",
       "126     1/6/2012 6:00                            -12.0   \n",
       "127     1/6/2012 7:00                            -14.4   \n",
       "128     1/6/2012 8:00                            -12.3   \n",
       "129     1/6/2012 9:00                            -12.5   \n",
       "130    1/6/2012 10:00                            -12.3   \n",
       "131    1/6/2012 11:00                            -12.0   \n",
       "132    1/6/2012 12:00                            -11.7   \n",
       "133    1/6/2012 13:00                            -11.9   \n",
       "134    1/6/2012 14:00                            -11.2   \n",
       "135    1/6/2012 15:00                            -11.5   \n",
       "136    1/6/2012 16:00                            -11.6   \n",
       "137    1/6/2012 17:00                            -11.2   \n",
       "316    1/14/2012 4:00                            -13.4   \n",
       "489    1/21/2012 9:00                            -15.9   \n",
       "490   1/21/2012 10:00                            -16.3   \n",
       "491   1/21/2012 11:00                            -15.9   \n",
       "729    1/31/2012 9:00                            -10.1   \n",
       "988    2/11/2012 4:00                            -10.8   \n",
       "989    2/11/2012 5:00                            -11.5   \n",
       "990    2/11/2012 6:00                            -12.2   \n",
       "991    2/11/2012 7:00                            -13.0   \n",
       "992    2/11/2012 8:00                            -13.7   \n",
       "994   2/11/2012 10:00                            -13.4   \n",
       "995   2/11/2012 11:00                            -13.1   \n",
       "996   2/11/2012 12:00                            -12.8   \n",
       "1013   2/12/2012 5:00                            -16.4   \n",
       "1014   2/12/2012 6:00                            -16.7   \n",
       "1015   2/12/2012 7:00                            -16.7   \n",
       "1017   2/12/2012 9:00                            -16.7   \n",
       "\n",
       "      Dew Point Temperature (in Degree Celsius)  Relative Humidity (in %)  \\\n",
       "55                                        -19.5                        63   \n",
       "84                                        -21.7                        51   \n",
       "86                                        -19.0                        53   \n",
       "87                                        -16.3                        61   \n",
       "123                                       -16.0                        64   \n",
       "124                                       -16.1                        68   \n",
       "125                                       -16.0                        71   \n",
       "126                                       -16.2                        71   \n",
       "127                                       -16.3                        85   \n",
       "128                                       -16.2                        73   \n",
       "129                                       -16.7                        71   \n",
       "130                                       -16.3                        72   \n",
       "131                                       -16.0                        72   \n",
       "132                                       -15.4                        74   \n",
       "133                                       -15.6                        74   \n",
       "134                                       -14.8                        75   \n",
       "135                                       -14.4                        79   \n",
       "136                                       -14.7                        78   \n",
       "137                                       -14.3                        78   \n",
       "316                                       -18.9                        63   \n",
       "489                                       -21.0                        65   \n",
       "490                                       -21.4                        65   \n",
       "491                                       -21.2                        64   \n",
       "729                                       -14.4                        71   \n",
       "988                                       -13.4                        81   \n",
       "989                                       -14.4                        79   \n",
       "990                                       -14.8                        81   \n",
       "991                                       -15.7                        80   \n",
       "992                                       -17.1                        75   \n",
       "994                                       -18.8                        64   \n",
       "995                                       -18.8                        62   \n",
       "996                                       -17.2                        70   \n",
       "1013                                      -22.8                        58   \n",
       "1014                                      -23.3                        57   \n",
       "1015                                      -23.5                        56   \n",
       "1017                                      -24.6                        50   \n",
       "\n",
       "      Wind Speed (in km/h)  Visibility (in km)  Pressure (in kilopascal)  \\\n",
       "55                      19                25.0                    100.95   \n",
       "84                      11                24.1                    101.25   \n",
       "86                       7                19.3                    100.97   \n",
       "87                      11                 9.7                    100.89   \n",
       "123                      0                 9.7                    100.76   \n",
       "124                     15                 3.2                    100.70   \n",
       "125                     19                 2.8                    100.61   \n",
       "126                     22                 4.8                    100.58   \n",
       "127                     22                 2.4                    100.52   \n",
       "128                     24                11.3                    100.51   \n",
       "129                     26                19.3                    100.53   \n",
       "130                     28                16.1                    100.47   \n",
       "131                     17                24.1                    100.36   \n",
       "132                     28                19.3                    100.23   \n",
       "133                     20                24.1                    100.13   \n",
       "134                     19                19.3                    100.07   \n",
       "135                     19                12.9                    100.06   \n",
       "136                     19                19.3                    100.10   \n",
       "137                     17                25.0                    100.15   \n",
       "316                     20                16.1                    100.26   \n",
       "489                     13                24.1                    102.11   \n",
       "490                     17                24.1                    102.12   \n",
       "491                     19                24.1                    102.09   \n",
       "729                     17                24.1                    101.59   \n",
       "988                     22                16.1                    100.98   \n",
       "989                     20                16.1                    100.99   \n",
       "990                     24                 9.7                    101.00   \n",
       "991                     20                12.9                    100.96   \n",
       "992                     20                16.1                    101.01   \n",
       "994                     19                24.1                    101.05   \n",
       "995                     11                24.1                    101.03   \n",
       "996                      9                19.3                    100.97   \n",
       "1013                    11                25.0                    100.59   \n",
       "1014                    15                25.0                    100.60   \n",
       "1015                    19                24.1                    100.64   \n",
       "1017                    17                24.1                    100.72   \n",
       "\n",
       "     Weather Description  \n",
       "55                  Snow  \n",
       "84                  Snow  \n",
       "86                  Snow  \n",
       "87                  Snow  \n",
       "123                 Snow  \n",
       "124                 Snow  \n",
       "125                 Snow  \n",
       "126                 Snow  \n",
       "127                 Snow  \n",
       "128                 Snow  \n",
       "129                 Snow  \n",
       "130                 Snow  \n",
       "131                 Snow  \n",
       "132                 Snow  \n",
       "133                 Snow  \n",
       "134                 Snow  \n",
       "135                 Snow  \n",
       "136                 Snow  \n",
       "137                 Snow  \n",
       "316                 Snow  \n",
       "489                 Snow  \n",
       "490                 Snow  \n",
       "491                 Snow  \n",
       "729                 Snow  \n",
       "988                 Snow  \n",
       "989                 Snow  \n",
       "990                 Snow  \n",
       "991                 Snow  \n",
       "992                 Snow  \n",
       "994                 Snow  \n",
       "995                 Snow  \n",
       "996                 Snow  \n",
       "1013                Snow  \n",
       "1014                Snow  \n",
       "1015                Snow  \n",
       "1017                Snow  "
      ]
     },
     "metadata": {},
     "output_type": "display_data"
    }
   ],
   "source": [
    "display(snow_rows_less_than_negative_10_temperature)"
   ]
  },
  {
   "cell_type": "code",
   "execution_count": 40,
   "id": "21ea062a",
   "metadata": {},
   "outputs": [
    {
     "name": "stdout",
     "output_type": "stream",
     "text": [
      "Number of rows having less than 10 degree celsius temperature and weather description as 'Snow' is: 36\n"
     ]
    }
   ],
   "source": [
    "print(\"Number of rows having less than 10 degree celsius temperature and weather description as 'Snow' is:\", len(snow_rows_less_than_negative_10_temperature))"
   ]
  },
  {
   "cell_type": "markdown",
   "id": "6ee3251b",
   "metadata": {},
   "source": [
    "## Finding minimum and maximum values of temperature"
   ]
  },
  {
   "cell_type": "code",
   "execution_count": 41,
   "id": "55766062",
   "metadata": {},
   "outputs": [
    {
     "data": {
      "text/plain": [
       "0      -1.8\n",
       "1      -1.8\n",
       "2      -1.8\n",
       "3      -1.5\n",
       "4      -1.5\n",
       "       ... \n",
       "8779    0.1\n",
       "8780    0.2\n",
       "8781   -0.5\n",
       "8782   -0.2\n",
       "8783    0.0\n",
       "Name: Temperature (in Degree Celsius), Length: 8784, dtype: float64"
      ]
     },
     "metadata": {},
     "output_type": "display_data"
    }
   ],
   "source": [
    "display(df[\"Temperature (in Degree Celsius)\"])"
   ]
  },
  {
   "cell_type": "code",
   "execution_count": 42,
   "id": "d1e52b76",
   "metadata": {},
   "outputs": [
    {
     "name": "stdout",
     "output_type": "stream",
     "text": [
      "Minimum temperature: -23.3\n"
     ]
    }
   ],
   "source": [
    "print(\"Minimum temperature:\", df[\"Temperature (in Degree Celsius)\"].min())"
   ]
  },
  {
   "cell_type": "code",
   "execution_count": 43,
   "id": "9e7c2fb8",
   "metadata": {},
   "outputs": [
    {
     "name": "stdout",
     "output_type": "stream",
     "text": [
      "Maximum temperature: 33.0\n"
     ]
    }
   ],
   "source": [
    "print(\"Maximum temperature:\", df[\"Temperature (in Degree Celsius)\"].max())"
   ]
  },
  {
   "cell_type": "markdown",
   "id": "d5991660",
   "metadata": {},
   "source": [
    "## Finding the variance of relative humidity"
   ]
  },
  {
   "cell_type": "code",
   "execution_count": 44,
   "id": "8ba9472d",
   "metadata": {},
   "outputs": [],
   "source": [
    "variance_relative_humidity = df[\"Relative Humidity (in %)\"].var()"
   ]
  },
  {
   "cell_type": "code",
   "execution_count": 45,
   "id": "145abd36",
   "metadata": {},
   "outputs": [
    {
     "name": "stdout",
     "output_type": "stream",
     "text": [
      "286.24855019850196\n"
     ]
    }
   ],
   "source": [
    "print(variance_relative_humidity)"
   ]
  },
  {
   "cell_type": "markdown",
   "id": "6fa65812",
   "metadata": {},
   "source": [
    "## Finding the standard deviation of pressure"
   ]
  },
  {
   "cell_type": "code",
   "execution_count": 46,
   "id": "a8e9e531",
   "metadata": {},
   "outputs": [],
   "source": [
    "standard_deviation_pressure = df[\"Pressure (in kilopascal)\"].var()"
   ]
  },
  {
   "cell_type": "code",
   "execution_count": 47,
   "id": "f7d9f16c",
   "metadata": {},
   "outputs": [
    {
     "name": "stdout",
     "output_type": "stream",
     "text": [
      "0.7123440111838423\n"
     ]
    }
   ],
   "source": [
    "print(standard_deviation_pressure)"
   ]
  },
  {
   "cell_type": "markdown",
   "id": "630b11fd",
   "metadata": {},
   "source": [
    "## Finding the records in which the wind speed is greater than 70 km/h\n",
    "(By 75 km/h, the wind is strong enough to cause\tslight structural damage and by 90 km/h it can uproot entire trees)"
   ]
  },
  {
   "cell_type": "code",
   "execution_count": 48,
   "id": "dbd1f6e6",
   "metadata": {},
   "outputs": [],
   "source": [
    "dangerous_wind_speed = df[df[\"Wind Speed (in km/h)\"] > 70]"
   ]
  },
  {
   "cell_type": "code",
   "execution_count": 49,
   "id": "9e44f0d0",
   "metadata": {},
   "outputs": [
    {
     "data": {
      "text/html": [
       "<div>\n",
       "<style scoped>\n",
       "    .dataframe tbody tr th:only-of-type {\n",
       "        vertical-align: middle;\n",
       "    }\n",
       "\n",
       "    .dataframe tbody tr th {\n",
       "        vertical-align: top;\n",
       "    }\n",
       "\n",
       "    .dataframe thead th {\n",
       "        text-align: right;\n",
       "    }\n",
       "</style>\n",
       "<table border=\"1\" class=\"dataframe\">\n",
       "  <thead>\n",
       "    <tr style=\"text-align: right;\">\n",
       "      <th></th>\n",
       "      <th>Date/Time</th>\n",
       "      <th>Temperature (in Degree Celsius)</th>\n",
       "      <th>Dew Point Temperature (in Degree Celsius)</th>\n",
       "      <th>Relative Humidity (in %)</th>\n",
       "      <th>Wind Speed (in km/h)</th>\n",
       "      <th>Visibility (in km)</th>\n",
       "      <th>Pressure (in kilopascal)</th>\n",
       "      <th>Weather Description</th>\n",
       "    </tr>\n",
       "  </thead>\n",
       "  <tbody>\n",
       "    <tr>\n",
       "      <th>409</th>\n",
       "      <td>1/18/2012 1:00</td>\n",
       "      <td>3.7</td>\n",
       "      <td>-2.1</td>\n",
       "      <td>66</td>\n",
       "      <td>83</td>\n",
       "      <td>25.0</td>\n",
       "      <td>98.36</td>\n",
       "      <td>Mostly Cloudy</td>\n",
       "    </tr>\n",
       "  </tbody>\n",
       "</table>\n",
       "</div>"
      ],
      "text/plain": [
       "          Date/Time  Temperature (in Degree Celsius)  \\\n",
       "409  1/18/2012 1:00                              3.7   \n",
       "\n",
       "     Dew Point Temperature (in Degree Celsius)  Relative Humidity (in %)  \\\n",
       "409                                       -2.1                        66   \n",
       "\n",
       "     Wind Speed (in km/h)  Visibility (in km)  Pressure (in kilopascal)  \\\n",
       "409                    83                25.0                     98.36   \n",
       "\n",
       "    Weather Description  \n",
       "409       Mostly Cloudy  "
      ]
     },
     "metadata": {},
     "output_type": "display_data"
    }
   ],
   "source": [
    "display(dangerous_wind_speed)"
   ]
  },
  {
   "cell_type": "code",
   "execution_count": 50,
   "id": "a1b5332c",
   "metadata": {},
   "outputs": [
    {
     "name": "stdout",
     "output_type": "stream",
     "text": [
      "Number of records in which wind speed is greater than 70 km/h: 1\n"
     ]
    }
   ],
   "source": [
    "print(\"Number of records in which wind speed is greater than 70 km/h:\", len(dangerous_wind_speed))"
   ]
  }
 ],
 "metadata": {
  "kernelspec": {
   "display_name": "Python 3 (ipykernel)",
   "language": "python",
   "name": "python3"
  },
  "language_info": {
   "codemirror_mode": {
    "name": "ipython",
    "version": 3
   },
   "file_extension": ".py",
   "mimetype": "text/x-python",
   "name": "python",
   "nbconvert_exporter": "python",
   "pygments_lexer": "ipython3",
   "version": "3.9.12"
  }
 },
 "nbformat": 4,
 "nbformat_minor": 5
}
